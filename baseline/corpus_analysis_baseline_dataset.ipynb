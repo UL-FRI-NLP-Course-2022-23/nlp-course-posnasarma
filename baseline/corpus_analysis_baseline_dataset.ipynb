{
 "cells": [
  {
   "cell_type": "code",
   "execution_count": 14,
   "id": "32ab318d",
   "metadata": {},
   "outputs": [],
   "source": [
    "import numpy as np\n",
    "import pandas as pd\n",
    "import matplotlib.pyplot as plt\n",
    "import csv\n",
    "import nltk\n",
    "from collections import Counter\n",
    "import re"
   ]
  },
  {
   "cell_type": "code",
   "execution_count": 15,
   "id": "12814675",
   "metadata": {},
   "outputs": [],
   "source": [
    "# Loading the dataset\n",
    "df1 = pd.read_csv('movie_database1.csv')\n",
    "df2 = pd.read_csv('movie_database2.csv')\n",
    "df3 = pd.read_csv('movie_database3.csv')"
   ]
  },
  {
   "cell_type": "code",
   "execution_count": 16,
   "id": "bc3fe0c4",
   "metadata": {},
   "outputs": [
    {
     "data": {
      "text/plain": [
       "(1126, 10)"
      ]
     },
     "execution_count": 16,
     "metadata": {},
     "output_type": "execute_result"
    }
   ],
   "source": [
    "df = pd.concat([df1, df2])\n",
    "df = pd.concat([df, df3])\n",
    "df.shape"
   ]
  },
  {
   "cell_type": "code",
   "execution_count": 17,
   "id": "8c7cd007",
   "metadata": {},
   "outputs": [],
   "source": [
    "df = df.rename(columns={'summary_sublikescript': 'summary_subslikescript'})"
   ]
  },
  {
   "cell_type": "code",
   "execution_count": 18,
   "id": "b8f1c42b",
   "metadata": {},
   "outputs": [],
   "source": [
    "def clean_new_row_stamp(text):\n",
    "    if pd.isnull(text):\n",
    "        return text\n",
    "    else:\n",
    "        text = re.sub(r'\\n', ' ', text) # replace newlines with spaces\n",
    "        text = re.sub(r'\\t', ' ', text) # replace tabs with spaces\n",
    "        return text"
   ]
  },
  {
   "cell_type": "code",
   "execution_count": 19,
   "id": "8307a0ca",
   "metadata": {},
   "outputs": [],
   "source": [
    "# Removing '\\n' and '\\t' symbols\n",
    "df['script'] = df['script'].apply(clean_new_row_stamp)\n",
    "df['summary_meta'] = df['summary_meta'].apply(clean_new_row_stamp)\n",
    "df['summary_rotten'] = df['summary_rotten'].apply(clean_new_row_stamp)\n",
    "df['subtitle'] = df['subtitle'].apply(clean_new_row_stamp)\n",
    "df['summary_subslikescript'] = df['summary_subslikescript'].apply(clean_new_row_stamp)"
   ]
  },
  {
   "cell_type": "code",
   "execution_count": 20,
   "id": "1bca4b7e",
   "metadata": {},
   "outputs": [],
   "source": [
    "# Converting years from float to int value\n",
    "df['year_rotten'] = df['year_rotten'].fillna(0)\n",
    "df['year_rotten'] = df['year_rotten'].astype(int)\n",
    "df['year_meta'] = df['year_meta'].fillna(0)\n",
    "df['year_meta'] = df['year_meta'].astype(int)"
   ]
  },
  {
   "cell_type": "code",
   "execution_count": 21,
   "id": "79af0b49",
   "metadata": {},
   "outputs": [],
   "source": [
    "# sometimes movies have same name, but were filmed in different years, we have to drop rows that contain conflicting information\n",
    "\n",
    "mask = (df['year_rotten'] != 0) & (df['year_meta'] != 0) & (np.abs(df['year_rotten'] - df['year_meta']) > 2)\n",
    "df = df[~mask]\n",
    "\n",
    "# remove scripts for which we don't have any summary\n",
    "\n",
    "df.dropna(subset=['summary_rotten', 'summary_meta', 'summary_subslikescript'], how='all', inplace=True)\n",
    "df = df.reset_index(drop=True)"
   ]
  },
  {
   "cell_type": "code",
   "execution_count": 22,
   "id": "f63d0019",
   "metadata": {},
   "outputs": [
    {
     "name": "stderr",
     "output_type": "stream",
     "text": [
      "C:\\Users\\Asus\\AppData\\Local\\Temp\\ipykernel_14560\\1912471022.py:11: FutureWarning: The pandas.np module is deprecated and will be removed from pandas in a future version. Import numpy directly instead.\n",
      "  df.loc[df['num_sentences'] < 100, 'subtitle'] = pd.np.nan\n"
     ]
    }
   ],
   "source": [
    "# Define a function to count the number of sentences in a given text\n",
    "\n",
    "def count_sentences(text):\n",
    "    sentences = nltk.sent_tokenize(text)\n",
    "    return len(sentences)\n",
    "\n",
    "# Apply the function to the text column to create a new column with the sentence counts\n",
    "df['num_sentences'] = df['subtitle'].apply(lambda x: count_sentences(str(x)))\n",
    "\n",
    "# Replace the text column values with NaN if the number of sentences is less than 200\n",
    "df.loc[df['num_sentences'] < 100, 'subtitle'] = pd.np.nan\n",
    "\n",
    "# Drop the 'num_sentences' column \n",
    "df.drop('num_sentences', axis=1, inplace=True)"
   ]
  },
  {
   "cell_type": "code",
   "execution_count": 23,
   "id": "be5d86ec",
   "metadata": {},
   "outputs": [
    {
     "name": "stdout",
     "output_type": "stream",
     "text": [
      "Number of scripts:  943\n",
      "Number of subtitles:  772\n",
      "Number of Rotten Tomatoes summaries :  781\n",
      "Number of Metacritics summaries:  835\n",
      "Number of Subslikescript summaries:  785\n"
     ]
    }
   ],
   "source": [
    "# Corpus size\n",
    "\n",
    "script = df['script'].dropna()\n",
    "print('Number of scripts: ', len(script))\n",
    "\n",
    "subtitle = df['subtitle'].dropna()\n",
    "print('Number of subtitles: ', len(subtitle))\n",
    "\n",
    "summary_rotten = df['summary_rotten'].dropna()\n",
    "print('Number of Rotten Tomatoes summaries : ', len(summary_rotten))\n",
    "\n",
    "summary_meta = df['summary_meta'].dropna()\n",
    "print('Number of Metacritics summaries: ', len(summary_meta))\n",
    "\n",
    "summary_ss = df['summary_subslikescript'].dropna()\n",
    "print('Number of Subslikescript summaries: ', len(summary_ss))"
   ]
  },
  {
   "cell_type": "code",
   "execution_count": 24,
   "id": "5bd8720b",
   "metadata": {},
   "outputs": [
    {
     "name": "stdout",
     "output_type": "stream",
     "text": [
      "Sentences in scripts:\n",
      "Min: 334\n",
      "Average: 2807\n",
      "Max: 5345\n",
      "\n",
      "\n",
      "Sentences in subtitles:\n",
      "Min: 121\n",
      "Average: 1505\n",
      "Max: 11077\n",
      "\n",
      "\n",
      "Sentences in Rotten Totamoes summaries:\n",
      "Min: 1\n",
      "Average: 3\n",
      "Max: 7\n",
      "\n",
      "\n",
      "Sentences in Metacritics summaries:\n",
      "Min: 1\n",
      "Average: 2\n",
      "Max: 12\n",
      "\n",
      "\n",
      "Sentences in Subslikescript summaries:\n",
      "Min: 1\n",
      "Average: 4\n",
      "Max: 22\n",
      "\n",
      "\n"
     ]
    }
   ],
   "source": [
    "# Counting the number of sentences \n",
    "\n",
    "data = [script, subtitle, summary_rotten, summary_meta, summary_ss]\n",
    "names = ['scripts', 'subtitles', 'Rotten Totamoes summaries', 'Metacritics summaries', 'Subslikescript summaries']\n",
    "\n",
    "for i in range(len(data)):\n",
    "    sentences_counts = []\n",
    "    for text in data[i]:\n",
    "        sentences = nltk.sent_tokenize(text)\n",
    "        num_sentences = len(sentences)\n",
    "        sentences_counts.append(num_sentences)\n",
    "    print('Sentences in {}:'.format(names[i]))    \n",
    "    print('Min:', min(sentences_counts))\n",
    "    print('Average:', int(sum(sentences_counts)/len(sentences_counts)))\n",
    "    print('Max:', max(sentences_counts))\n",
    "    print('\\n')"
   ]
  },
  {
   "cell_type": "code",
   "execution_count": 25,
   "id": "16eaff70",
   "metadata": {},
   "outputs": [
    {
     "name": "stdout",
     "output_type": "stream",
     "text": [
      "Words in scripts:\n",
      "Min: 4302\n",
      "Average: 29421\n",
      "Max: 64311\n",
      "\n",
      "\n",
      "TTR in scripts:\n",
      "Min: 0.07140117487938309\n",
      "Average: 0.14283348065199028\n",
      "Max: 0.3124128312412831\n",
      "\n",
      "\n",
      "Words in subtitles:\n",
      "Min: 718\n",
      "Average: 11660\n",
      "Max: 49988\n",
      "\n",
      "\n",
      "TTR in subtitles:\n",
      "Min: 0.002127438771274388\n",
      "Average: 0.15745290772573256\n",
      "Max: 0.4220055710306407\n",
      "\n",
      "\n",
      "Words in Rotten Totamoes summaries:\n",
      "Min: 7\n",
      "Average: 82\n",
      "Max: 123\n",
      "\n",
      "\n",
      "TTR in Rotten Totamoes summaries:\n",
      "Min: 0.6\n",
      "Average: 0.7569169232634937\n",
      "Max: 1.0\n",
      "\n",
      "\n",
      "Words in Metacritics summaries:\n",
      "Min: 10\n",
      "Average: 64\n",
      "Max: 320\n",
      "\n",
      "\n",
      "TTR in Metacritics summaries:\n",
      "Min: 0.534375\n",
      "Average: 0.8281717290645512\n",
      "Max: 1.0\n",
      "\n",
      "\n",
      "Words in Subslikescript summaries:\n",
      "Min: 12\n",
      "Average: 123\n",
      "Max: 616\n",
      "\n",
      "\n",
      "TTR in Subslikescript summaries:\n",
      "Min: 0.4708029197080292\n",
      "Average: 0.6959834139605624\n",
      "Max: 1.0\n",
      "\n",
      "\n"
     ]
    }
   ],
   "source": [
    "# Counting the number of words and computing TTR\n",
    "\n",
    "for i in range(len(data)):\n",
    "    words_counts = []\n",
    "    ttr_all = []\n",
    "    for text in data[i]:\n",
    "        words = nltk.word_tokenize(text)\n",
    "        num_words = len(words)\n",
    "        words_counts.append(num_words)\n",
    "        types = len(set(words))\n",
    "        ttr = types/num_words\n",
    "        ttr_all.append(ttr)\n",
    "    \n",
    "    print('Words in {}:'.format(names[i])) \n",
    "    print('Min:', min(words_counts))\n",
    "    print('Average:', int(sum(words_counts)/len(words_counts)))\n",
    "    print('Max:', max(words_counts))\n",
    "    print('\\n')\n",
    "    print('TTR in {}:'.format(names[i])) \n",
    "    print('Min:', min(ttr_all))\n",
    "    print('Average:', sum(ttr_all)/len(ttr_all))\n",
    "    print('Max:', max(ttr_all))\n",
    "    print('\\n')"
   ]
  },
  {
   "cell_type": "code",
   "execution_count": 26,
   "id": "30437cd8",
   "metadata": {},
   "outputs": [
    {
     "name": "stderr",
     "output_type": "stream",
     "text": [
      "C:\\Users\\Asus\\AppData\\Local\\Temp\\ipykernel_14560\\1982395373.py:19: FutureWarning: The pandas.np module is deprecated and will be removed from pandas in a future version. Import numpy directly instead.\n",
      "  df['genre_meta'] = df['genre_meta'].apply(lambda x: [genre.lower() for genre in x] if isinstance(x, list) else pd.np.nan)\n"
     ]
    }
   ],
   "source": [
    "def convert_to_list(x):\n",
    "    if pd.isnull(x):\n",
    "        return x\n",
    "    elif isinstance(x, str):\n",
    "        x = x.strip(\"[]'\").replace(\"'\", \"\").split(\", \")\n",
    "        return x\n",
    "    \n",
    "def extract_genres(text):\n",
    "     if pd.isnull(text):\n",
    "        return text\n",
    "     else:\n",
    "        text = re.sub(r'&', '', text)\n",
    "        text = re.sub(r'/', ' ', text)\n",
    "        text = text.lower().split()\n",
    "        return text\n",
    "\n",
    "df['genre_meta'] = df['genre_meta'].apply(convert_to_list)\n",
    "df['genre_rotten'] = df['genre_rotten'].apply(extract_genres)\n",
    "df['genre_meta'] = df['genre_meta'].apply(lambda x: [genre.lower() for genre in x] if isinstance(x, list) else pd.np.nan)\n"
   ]
  },
  {
   "cell_type": "code",
   "execution_count": 27,
   "id": "b8b49f45",
   "metadata": {},
   "outputs": [
    {
     "name": "stderr",
     "output_type": "stream",
     "text": [
      "C:\\Users\\Asus\\AppData\\Local\\Temp\\ipykernel_14560\\1731680804.py:13: FutureWarning: The pandas.np module is deprecated and will be removed from pandas in a future version. Import numpy directly instead.\n",
      "  common_genres = pd.np.nan\n"
     ]
    },
    {
     "data": {
      "text/plain": [
       "0                  [comedy, romance]\n",
       "1                                NaN\n",
       "2        [mystery, thriller, sci-fi]\n",
       "3                   [drama, history]\n",
       "4      [drama, thriller, crime, war]\n",
       "                   ...              \n",
       "938                [comedy, romance]\n",
       "939                [comedy, romance]\n",
       "940                [drama, thriller]\n",
       "941                         [comedy]\n",
       "942                 [comedy, family]\n",
       "Name: common_genres, Length: 943, dtype: object"
      ]
     },
     "execution_count": 27,
     "metadata": {},
     "output_type": "execute_result"
    }
   ],
   "source": [
    "common_genres_list = []\n",
    "for i in range(len(df)):\n",
    "    genres1 = df.loc[i, 'genre_rotten']\n",
    "    genres2 = df.loc[i, 'genre_meta']\n",
    "    if isinstance(genres1, list) and len(genres1) > 0:\n",
    "        if isinstance(genres2, list) and len(genres2) > 0:\n",
    "            common_genres = list(set(genres1).intersection(genres2))\n",
    "        else:\n",
    "            common_genres = genres1\n",
    "    elif isinstance(genres2, list) and len(genres2) > 0:\n",
    "        common_genres = genres2\n",
    "    else:\n",
    "        common_genres = pd.np.nan\n",
    "    common_genres_list.append(common_genres)\n",
    "    \n",
    "df['common_genres'] = common_genres_list\n",
    "df['common_genres']"
   ]
  },
  {
   "cell_type": "code",
   "execution_count": 28,
   "id": "9cb7706c",
   "metadata": {},
   "outputs": [
    {
     "data": {
      "text/plain": [
       "[('drama', 369),\n",
       " ('comedy', 271),\n",
       " ('thriller', 182),\n",
       " ('action', 133),\n",
       " ('sci-fi', 96),\n",
       " ('crime', 89),\n",
       " ('romance', 85),\n",
       " ('mystery', 85),\n",
       " ('adventure', 85),\n",
       " ('horror', 84),\n",
       " ('fantasy', 50),\n",
       " ('family', 42),\n",
       " ('biography', 41),\n",
       " ('history', 20),\n",
       " ('war', 19),\n",
       " ('musical', 12),\n",
       " ('western', 10),\n",
       " ('animation', 6),\n",
       " ('music', 4),\n",
       " ('sport', 3),\n",
       " ('kids', 2),\n",
       " ('film-noir', 1)]"
      ]
     },
     "execution_count": 28,
     "metadata": {},
     "output_type": "execute_result"
    }
   ],
   "source": [
    "# Putting all genres into one list\n",
    "all_genres = []\n",
    "for i in range(len(df['common_genres'])):\n",
    "    if isinstance(df['common_genres'][i], list):\n",
    "        all_genres.extend(df['common_genres'][i]) \n",
    "\n",
    "# Counting how many times each movie genre occurs in the data\n",
    "genres_occurrence = Counter(all_genres)\n",
    "genres_occurrence = list(genres_occurrence.items())\n",
    "genres_sorted = sorted(genres_occurrence, key=lambda x: x[1], reverse=True)\n",
    "genres_sorted"
   ]
  },
  {
   "cell_type": "code",
   "execution_count": 37,
   "id": "e554240a",
   "metadata": {},
   "outputs": [
    {
     "data": {
      "image/png": "[encoded data removed]",
      "text/plain": [
       "<Figure size 900x600 with 1 Axes>"
      ]
     },
     "metadata": {},
     "output_type": "display_data"
    }
   ],
   "source": [
    "# Get the top 15 genres\n",
    "top_genres = genres_sorted[:15]\n",
    "\n",
    "# Extract the genre names and counts from the top 15 tuples\n",
    "genres = [g[0] for g in top_genres]\n",
    "counts = [g[1] for g in top_genres]\n",
    "\n",
    "# Create a bar plot\n",
    "fig, ax = plt.subplots(figsize=(9,6))\n",
    "ax.bar(genres, counts)\n",
    "ax.set_xlabel('Genre')\n",
    "ax.set_ylabel('Count')\n",
    "#ax.set_title('Most Common Movie Genres')\n",
    "plt.xticks(rotation=45)\n",
    "plt.show()\n",
    "fig.savefig('movie_genres.png', dpi=300)"
   ]
  },
  {
   "cell_type": "code",
   "execution_count": null,
   "id": "dff9df16",
   "metadata": {},
   "outputs": [],
   "source": []
  }
 ],
 "metadata": {
  "kernelspec": {
   "display_name": "Python 3 (ipykernel)",
   "language": "python",
   "name": "python3"
  },
  "language_info": {
   "codemirror_mode": {
    "name": "ipython",
    "version": 3
   },
   "file_extension": ".py",
   "mimetype": "text/x-python",
   "name": "python",
   "nbconvert_exporter": "python",
   "pygments_lexer": "ipython3",
   "version": "3.9.16"
  }
 },
 "nbformat": 4,
 "nbformat_minor": 5
}
