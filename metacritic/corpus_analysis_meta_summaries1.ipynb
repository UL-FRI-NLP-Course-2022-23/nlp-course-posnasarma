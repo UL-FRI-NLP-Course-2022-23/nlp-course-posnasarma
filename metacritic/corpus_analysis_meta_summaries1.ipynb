{
 "cells": [
  {
   "cell_type": "code",
   "execution_count": 22,
   "id": "32ab318d",
   "metadata": {},
   "outputs": [],
   "source": [
    "import numpy as np\n",
    "import csv\n",
    "import json\n",
    "import pandas as pd\n",
    "import nltk\n",
    "from collections import Counter"
   ]
  },
  {
   "cell_type": "code",
   "execution_count": 18,
   "id": "12814675",
   "metadata": {},
   "outputs": [],
   "source": [
    "with open('data/movie_data.json', encoding='utf-8') as data_file:\n",
    "    data = json.loads(data_file.read())"
   ]
  },
  {
   "cell_type": "code",
   "execution_count": 31,
   "id": "94b9d12f",
   "metadata": {},
   "outputs": [
    {
     "name": "stdout",
     "output_type": "stream",
     "text": [
      "Corpus size: 2000\n"
     ]
    }
   ],
   "source": [
    "print('Corpus size:', len(data))"
   ]
  },
  {
   "cell_type": "code",
   "execution_count": 20,
   "id": "9cb7706c",
   "metadata": {},
   "outputs": [],
   "source": [
    "all_genres = []\n",
    "for i in range(len(data)):\n",
    "    all_genres.extend(data[i]['genre']) "
   ]
  },
  {
   "cell_type": "code",
   "execution_count": 21,
   "id": "fadf8def",
   "metadata": {},
   "outputs": [
    {
     "data": {
      "text/plain": [
       "[('Drama', 1174),\n",
       " ('Comedy', 559),\n",
       " ('Thriller', 552),\n",
       " ('Romance', 413),\n",
       " ('Crime', 385),\n",
       " ('Action', 315),\n",
       " ('Documentary', 260),\n",
       " ('Adventure', 257),\n",
       " ('Fantasy', 194),\n",
       " ('Mystery', 188),\n",
       " ('Sci-Fi', 164),\n",
       " ('Biography', 152),\n",
       " ('Family', 137),\n",
       " ('Music', 131),\n",
       " ('Horror', 120),\n",
       " ('Animation', 117),\n",
       " ('History', 96),\n",
       " ('War', 83),\n",
       " ('Sport', 72),\n",
       " ('Musical', 49),\n",
       " ('Western', 28),\n",
       " ('Film-Noir', 11),\n",
       " ('News', 3),\n",
       " ('Short', 1)]"
      ]
     },
     "execution_count": 21,
     "metadata": {},
     "output_type": "execute_result"
    }
   ],
   "source": [
    "# Counting how many times each movie genre occurs in the data\n",
    "genres_occurrence = Counter(all_genres)\n",
    "genres_occurrence = list(genres_occurrence.items())\n",
    "genres_sorted = sorted(genres_occurrence, key=lambda x: x[1], reverse=True)\n",
    "genres_sorted"
   ]
  },
  {
   "cell_type": "code",
   "execution_count": 40,
   "id": "204c57ae",
   "metadata": {},
   "outputs": [
    {
     "name": "stdout",
     "output_type": "stream",
     "text": [
      "Minimum words: 6\n",
      "Average words per summary: 64\n",
      "Maximum words: 498\n",
      "Minimum TTR: 0.5020080321285141\n",
      "Average TTR per summary: 0.827550611169027\n",
      "Maximum TTR: 1.0\n"
     ]
    }
   ],
   "source": [
    "# Counting the number of words in summaries(unprocessed) and computing TTR\n",
    "words_counts = []\n",
    "ttr_all = []\n",
    "for i in range(len(data)):\n",
    "    words = nltk.word_tokenize(data[i]['summary'])\n",
    "    num_words = len(words)\n",
    "    words_counts.append(num_words)\n",
    "    types = len(set(words))\n",
    "    ttr = types/num_words\n",
    "    ttr_all.append(ttr)\n",
    "    \n",
    "print('Minimum words:', min(words_counts))\n",
    "print('Average words per summary:', int(sum(words_counts)/len(words_counts)))\n",
    "print('Maximum words:', max(words_counts))\n",
    "\n",
    "print('Minimum TTR:', min(ttr_all))\n",
    "print('Average TTR per summary:', sum(ttr_all)/len(ttr_all))\n",
    "print('Maximum TTR:', max(ttr_all))\n",
    "\n",
    "# we have to keep in mind that the summaries are not yet cleaned, meaning some summaries contain name of the actors \n",
    "# in brackets and sometimes even the name of the movie house that wrote the summary, which affects the results"
   ]
  },
  {
   "cell_type": "code",
   "execution_count": 38,
   "id": "a6e50820",
   "metadata": {},
   "outputs": [
    {
     "name": "stdout",
     "output_type": "stream",
     "text": [
      "Minimum sentences: 1\n",
      "Average sentences per summary: 2\n",
      "Maximum sentences: 23\n"
     ]
    }
   ],
   "source": [
    "# Counting the number of sentences in summaries\n",
    "sentences_counts = []\n",
    "for i in range(len(data)):\n",
    "    sentences = nltk.sent_tokenize(data[i]['summary'])\n",
    "    num_sentences = len(sentences)\n",
    "    sentences_counts.append(num_sentences)\n",
    "print('Minimum sentences:', min(sentences_counts))\n",
    "print('Average sentences per summary:', int(sum(sentences_counts)/len(sentences_counts)))\n",
    "print('Maximum sentences:', max(sentences_counts))"
   ]
  },
  {
   "cell_type": "code",
   "execution_count": null,
   "id": "df81a98f",
   "metadata": {},
   "outputs": [],
   "source": []
  }
 ],
 "metadata": {
  "kernelspec": {
   "display_name": "Python 3 (ipykernel)",
   "language": "python",
   "name": "python3"
  },
  "language_info": {
   "codemirror_mode": {
    "name": "ipython",
    "version": 3
   },
   "file_extension": ".py",
   "mimetype": "text/x-python",
   "name": "python",
   "nbconvert_exporter": "python",
   "pygments_lexer": "ipython3",
   "version": "3.9.16"
  }
 },
 "nbformat": 4,
 "nbformat_minor": 5
}
