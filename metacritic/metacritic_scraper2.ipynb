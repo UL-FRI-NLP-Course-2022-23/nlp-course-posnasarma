{
 "cells": [
  {
   "cell_type": "code",
   "execution_count": 1,
   "id": "f59a42b3",
   "metadata": {},
   "outputs": [],
   "source": [
    "# Loading all the libraries needed for running the code chunks below\n",
    "\n",
    "import json\n",
    "import matplotlib.pyplot as plt\n",
    "import numpy as np\n",
    "import time\n",
    "import csv\n",
    "from selenium import webdriver\n",
    "from selenium.webdriver.common.by import By\n",
    "from selenium.webdriver.common.keys import Keys\n",
    "from selenium.common.exceptions import NoSuchElementException\n",
    "from selenium.common.exceptions import ElementClickInterceptedException\n"
   ]
  },
  {
   "cell_type": "code",
   "execution_count": 9,
   "id": "063808c1",
   "metadata": {},
   "outputs": [],
   "source": [
    "def parse_movie(link):   \n",
    "    \n",
    "    movie_data = {'title':'','year':'', 'genre':'', 'summary':'', 'starring':'', 'director':'', 'runtime':''}\n",
    "    driver.get(link)\n",
    "    driver.implicitly_wait(1)\n",
    "    html = driver.page_source\n",
    "    titles = []\n",
    "    \n",
    "    try:\n",
    "        title = driver.find_element(By.TAG_NAME, 'h1')\n",
    "        movie_data['title'] = title.text\n",
    "        titles.append(title.text)\n",
    "    except NoSuchElementException:\n",
    "        pass \n",
    "    \n",
    "    try:\n",
    "        year = driver.find_element(By.CLASS_NAME, 'release_year')\n",
    "        movie_data['year'] = year.text\n",
    "    except NoSuchElementException:\n",
    "        pass \n",
    "     \n",
    "    try:\n",
    "        genres = driver.find_element(By.CLASS_NAME, 'genres')\n",
    "        genres = genres.find_elements(By.TAG_NAME, 'span')\n",
    "        genres_list = []\n",
    "        for i in range(2,len(genres)):\n",
    "            genres_list.append(genres[i].text)\n",
    "        movie_data['genre'] = genres_list\n",
    "    except NoSuchElementException:\n",
    "        return '',''\n",
    "\n",
    "    summary = driver.find_element(By.CLASS_NAME, 'summary_deck')\n",
    "\n",
    "    try:\n",
    "        button = driver.find_element(By.ID, 'onetrust-reject-all-handler')\n",
    "        button.click()\n",
    "    except NoSuchElementException:\n",
    "        pass\n",
    "   \n",
    "    try:\n",
    "        expand_button = summary.find_element(By.CLASS_NAME, 'toggle_expand_collapse')\n",
    "        expand_button.click()\n",
    "        summary = summary.find_elements(By.CLASS_NAME, 'blurb')\n",
    "        movie_data['summary'] = summary[1].text\n",
    "    except ElementClickInterceptedException:\n",
    "        summary = driver.find_element(By.CLASS_NAME, 'summary_deck')\n",
    "        summary = summary.find_elements(By.TAG_NAME, 'span')\n",
    "        movie_data['summary'] = summary[1].text\n",
    "    except NoSuchElementException:\n",
    "        summary = driver.find_element(By.CLASS_NAME, 'summary_deck')\n",
    "        summary = summary.find_elements(By.TAG_NAME, 'span')\n",
    "        movie_data['summary'] = summary[1].text\n",
    "\n",
    "    try:\n",
    "        cast = driver.find_element(By.CLASS_NAME, 'summary_cast')\n",
    "        cast = cast.find_elements(By.TAG_NAME, 'a')\n",
    "        cast_list = []\n",
    "        for i in range(len(cast)):\n",
    "            cast_list.append(cast[i].text)\n",
    "        movie_data['starring'] = cast_list\n",
    "    except NoSuchElementException:\n",
    "        pass    \n",
    "    \n",
    "    try:\n",
    "        director = driver.find_element(By.CLASS_NAME, 'director')\n",
    "        director = director.find_elements(By.TAG_NAME, 'span')\n",
    "        movie_data['director'] = director[1].text\n",
    "    except NoSuchElementException:\n",
    "        pass\n",
    "    \n",
    "    try:\n",
    "        runtime = driver.find_element(By.CLASS_NAME, 'runtime')\n",
    "        runtime = runtime.find_elements(By.TAG_NAME, 'span')\n",
    "        movie_data['runtime'] = runtime[1].text\n",
    "    except NoSuchElementException:\n",
    "        pass\n",
    "    \n",
    "    return movie_data, titles"
   ]
  },
  {
   "cell_type": "code",
   "execution_count": 12,
   "id": "4c96d903",
   "metadata": {},
   "outputs": [
    {
     "name": "stdout",
     "output_type": "stream",
     "text": [
      "Parsing time: 5655.88806271553\n"
     ]
    }
   ],
   "source": [
    "# Main code chunk\n",
    "\n",
    "driver = webdriver.Chrome('chromedriver')\n",
    "main_link = 'https://www.metacritic.com/movie/'\n",
    "\n",
    "with open('../scripts/new_names/movie_titles.txt', 'r') as f:\n",
    "    movie_titles = [line.strip() for line in f]\n",
    "\n",
    "urls = [\"https://www.metacritic.com/movie/\" + title for title in movie_titles]\n",
    "\n",
    "start = time.time()\n",
    "\n",
    "data = []\n",
    "titles = []\n",
    "for link in urls:\n",
    "    data_l, titles_l = parse_movie(link)\n",
    "    if titles_l == '':\n",
    "        continue\n",
    "    data.append(data_l)\n",
    "    titles.append(titles_l)\n",
    "\n",
    "end = time.time()\n",
    "print('Parsing time:', end-start)\n",
    "driver.close()\n",
    "\n",
    "with open(\"metacritic_data2.json\", \"w\", encoding='utf-8') as jsonfile:\n",
    "    json.dump(data, jsonfile, ensure_ascii=False, indent = 2)\n",
    "    \n",
    "with open('titles2.txt', 'w') as f:\n",
    "    f.write(str(titles))"
   ]
  },
  {
   "cell_type": "code",
   "execution_count": 13,
   "id": "7f7eb599",
   "metadata": {},
   "outputs": [],
   "source": [
    "with open(\"titles2.csv\", \"w\", newline=\"\", encoding='utf-8') as file:\n",
    "    writer = csv.writer(file)\n",
    "    writer.writerow(titles)"
   ]
  },
  {
   "cell_type": "code",
   "execution_count": 14,
   "id": "07a58a46",
   "metadata": {},
   "outputs": [
    {
     "name": "stdout",
     "output_type": "stream",
     "text": [
      "965\n"
     ]
    }
   ],
   "source": [
    "print(len(titles))"
   ]
  },
  {
   "cell_type": "code",
   "execution_count": 15,
   "id": "737d458d",
   "metadata": {},
   "outputs": [
    {
     "name": "stdout",
     "output_type": "stream",
     "text": [
      "1126\n"
     ]
    }
   ],
   "source": [
    "print(len(urls))"
   ]
  }
 ],
 "metadata": {
  "kernelspec": {
   "display_name": "Python 3 (ipykernel)",
   "language": "python",
   "name": "python3"
  },
  "language_info": {
   "codemirror_mode": {
    "name": "ipython",
    "version": 3
   },
   "file_extension": ".py",
   "mimetype": "text/x-python",
   "name": "python",
   "nbconvert_exporter": "python",
   "pygments_lexer": "ipython3",
   "version": "3.9.12"
  }
 },
 "nbformat": 4,
 "nbformat_minor": 5
}
