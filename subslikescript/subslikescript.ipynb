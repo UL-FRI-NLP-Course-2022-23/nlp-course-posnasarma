{
 "cells": [
  {
   "cell_type": "code",
   "execution_count": 2,
   "id": "11cbd801",
   "metadata": {},
   "outputs": [],
   "source": [
    "import re\n",
    "import requests\n",
    "import bs4\n",
    "from random import randint\n",
    "from time import sleep\n",
    "from tqdm import tqdm\n",
    "import pandas as pd"
   ]
  },
  {
   "cell_type": "code",
   "execution_count": 36,
   "id": "9ed425f2",
   "metadata": {
    "scrolled": true
   },
   "outputs": [],
   "source": [
    "titles_st = []\n",
    "with open('./dowloaded.txt') as file:\n",
    "    line = file.readline()\n",
    "    while line:\n",
    "        modified_title = ''\n",
    "        new_line = re.sub(r'[^\\w\\s]', '', line) \n",
    "        segmented = new_line[:-1].lower().split(' ')\n",
    "        \n",
    "        if segmented[-1] == 'the':\n",
    "            modified_title = f'{segmented[-1]}-'\n",
    "            \n",
    "            for i in range(len(segmented)):\n",
    "                if i == len(segmented)-1:\n",
    "                    break\n",
    "                \n",
    "                modified_title = f'{modified_title}{segmented[i]}-'\n",
    "        else:\n",
    "            for i in range(len(segmented)):\n",
    "                modified_title = f'{modified_title}{segmented[i]}-'\n",
    "\n",
    "        titles_st.append(modified_title[:-1])\n",
    "        line = file.readline()"
   ]
  },
  {
   "cell_type": "code",
   "execution_count": 145,
   "id": "76257a00",
   "metadata": {},
   "outputs": [
    {
     "name": "stderr",
     "output_type": "stream",
     "text": [
      "100%|████████████████████████████████████████████████████████████████████████████| 1779/1779 [1:18:31<00:00,  2.65s/it]\n"
     ]
    }
   ],
   "source": [
    "info = pd.DataFrame(columns=['movie','site'])\n",
    "\n",
    "for i in tqdm(range(1,1780)):\n",
    "    url = f'https://subslikescript.com/movies?page={i}'\n",
    "    response = requests.get(url)\n",
    "    soup = bs4.BeautifulSoup(response.content,'lxml')\n",
    "    \n",
    "    websites = []\n",
    "    names = []\n",
    "    for movie in soup.find(\"ul\", {\"class\": \"scripts-list\"}).find_all('a'):\n",
    "        websites.append(movie['href'])\n",
    "        names.append(movie.text)\n",
    "    \n",
    "    temp = pd.DataFrame({'movie' : names,'site' : websites})\n",
    "    info = pd.concat([info,temp], ignore_index = True)\n",
    "    \n",
    "    if i%10 == 0:\n",
    "        info.to_csv(f'./checkpoints/{i:04}.csv',index=False)\n",
    "    \n",
    "    sleep(randint(1,3))    "
   ]
  },
  {
   "cell_type": "code",
   "execution_count": 24,
   "id": "14f926e7",
   "metadata": {},
   "outputs": [],
   "source": [
    "info.to_csv('./all_movies.csv',index=False)"
   ]
  },
  {
   "cell_type": "code",
   "execution_count": 26,
   "id": "463eb48b",
   "metadata": {
    "scrolled": false
   },
   "outputs": [],
   "source": [
    "info = pd.read_csv('./all_movies.csv')"
   ]
  },
  {
   "cell_type": "code",
   "execution_count": 27,
   "id": "80e48b86",
   "metadata": {},
   "outputs": [
    {
     "data": {
      "text/html": [
       "<div>\n",
       "<style scoped>\n",
       "    .dataframe tbody tr th:only-of-type {\n",
       "        vertical-align: middle;\n",
       "    }\n",
       "\n",
       "    .dataframe tbody tr th {\n",
       "        vertical-align: top;\n",
       "    }\n",
       "\n",
       "    .dataframe thead th {\n",
       "        text-align: right;\n",
       "    }\n",
       "</style>\n",
       "<table border=\"1\" class=\"dataframe\">\n",
       "  <thead>\n",
       "    <tr style=\"text-align: right;\">\n",
       "      <th></th>\n",
       "      <th>movie</th>\n",
       "      <th>site</th>\n",
       "    </tr>\n",
       "  </thead>\n",
       "  <tbody>\n",
       "    <tr>\n",
       "      <th>0</th>\n",
       "      <td>Blind Detective (2013)</td>\n",
       "      <td>movie/Blind_Detective-2332707</td>\n",
       "    </tr>\n",
       "    <tr>\n",
       "      <th>1</th>\n",
       "      <td>Killer Workout (1987)</td>\n",
       "      <td>movie/Killer_Workout-91339</td>\n",
       "    </tr>\n",
       "    <tr>\n",
       "      <th>2</th>\n",
       "      <td>Budapest Noir (2017)</td>\n",
       "      <td>movie/Budapest_Noir-5161018</td>\n",
       "    </tr>\n",
       "    <tr>\n",
       "      <th>3</th>\n",
       "      <td>Firefly (2013)</td>\n",
       "      <td>movie/Firefly-3582840</td>\n",
       "    </tr>\n",
       "    <tr>\n",
       "      <th>4</th>\n",
       "      <td>Warriors of the Rainbow: Seediq Bale II (2011)</td>\n",
       "      <td>movie/Warriors_of_the_Rainbow_Seediq_Bale_II-4...</td>\n",
       "    </tr>\n",
       "    <tr>\n",
       "      <th>...</th>\n",
       "      <td>...</td>\n",
       "      <td>...</td>\n",
       "    </tr>\n",
       "    <tr>\n",
       "      <th>53365</th>\n",
       "      <td>78/52: Hitchcock's Shower Scene (2017)</td>\n",
       "      <td>movie/7852_Hitchcocks_Shower_Scene-4372240</td>\n",
       "    </tr>\n",
       "    <tr>\n",
       "      <th>53366</th>\n",
       "      <td>The Predator (2018)</td>\n",
       "      <td>movie/The_Predator-3829266</td>\n",
       "    </tr>\n",
       "    <tr>\n",
       "      <th>53367</th>\n",
       "      <td>Blindspotting (2018)</td>\n",
       "      <td>movie/Blindspotting-7242142</td>\n",
       "    </tr>\n",
       "    <tr>\n",
       "      <th>53368</th>\n",
       "      <td>Robin Hood The Rebellion (2018)</td>\n",
       "      <td>movie/Robin_Hood_The_Rebellion-7052244</td>\n",
       "    </tr>\n",
       "    <tr>\n",
       "      <th>53369</th>\n",
       "      <td>Woman on the Beach (2006)</td>\n",
       "      <td>movie/Woman_on_the_Beach-835787</td>\n",
       "    </tr>\n",
       "  </tbody>\n",
       "</table>\n",
       "<p>53370 rows × 2 columns</p>\n",
       "</div>"
      ],
      "text/plain": [
       "                                                movie  \\\n",
       "0                              Blind Detective (2013)   \n",
       "1                               Killer Workout (1987)   \n",
       "2                                Budapest Noir (2017)   \n",
       "3                                      Firefly (2013)   \n",
       "4      Warriors of the Rainbow: Seediq Bale II (2011)   \n",
       "...                                               ...   \n",
       "53365          78/52: Hitchcock's Shower Scene (2017)   \n",
       "53366                             The Predator (2018)   \n",
       "53367                            Blindspotting (2018)   \n",
       "53368                 Robin Hood The Rebellion (2018)   \n",
       "53369                       Woman on the Beach (2006)   \n",
       "\n",
       "                                                    site  \n",
       "0                          movie/Blind_Detective-2332707  \n",
       "1                             movie/Killer_Workout-91339  \n",
       "2                            movie/Budapest_Noir-5161018  \n",
       "3                                  movie/Firefly-3582840  \n",
       "4      movie/Warriors_of_the_Rainbow_Seediq_Bale_II-4...  \n",
       "...                                                  ...  \n",
       "53365         movie/7852_Hitchcocks_Shower_Scene-4372240  \n",
       "53366                         movie/The_Predator-3829266  \n",
       "53367                        movie/Blindspotting-7242142  \n",
       "53368             movie/Robin_Hood_The_Rebellion-7052244  \n",
       "53369                    movie/Woman_on_the_Beach-835787  \n",
       "\n",
       "[53370 rows x 2 columns]"
      ]
     },
     "execution_count": 27,
     "metadata": {},
     "output_type": "execute_result"
    }
   ],
   "source": [
    "info"
   ]
  },
  {
   "cell_type": "code",
   "execution_count": 5,
   "id": "c4a321eb",
   "metadata": {},
   "outputs": [],
   "source": [
    "def write_sub_to_file(subtitle, file_name):\n",
    "    \n",
    "    file = open(file_name,'w',encoding=\"utf-8\")\n",
    "    for br in subtitle.find_all(\"br\"):\n",
    "        br.replace_with(\"\\n\")\n",
    "        \n",
    "    file.write(re.sub(r'\\n+', '\\n', subtitle.text))\n",
    "    file.close()\n",
    "    \n",
    "def write_summary_to_file(summary, file_name):\n",
    "    file = open(file_name,'w',encoding=\"utf-8\")\n",
    "    file.write(summary.text)\n",
    "    file.close()"
   ]
  },
  {
   "cell_type": "code",
   "execution_count": 22,
   "id": "f2782fd8",
   "metadata": {},
   "outputs": [],
   "source": [
    "no_summaries = []\n",
    "no_subs = []"
   ]
  },
  {
   "cell_type": "code",
   "execution_count": 23,
   "id": "fb85a647",
   "metadata": {
    "scrolled": false
   },
   "outputs": [
    {
     "name": "stderr",
     "output_type": "stream",
     "text": [
      "100%|█████████████████████████████████████████████████████████████████████████| 51858/51858 [11:09:18<00:00,  1.29it/s]\n"
     ]
    }
   ],
   "source": [
    "base = 'https://subslikescript.com/'\n",
    "sub_base = './subtitles/'\n",
    "sum_base = './summary/'\n",
    "\n",
    "\n",
    "\n",
    "for i in tqdm(range(len(info))):\n",
    "    temp = re.sub(r'[^\\w\\s]', '', info['movie'][i])\n",
    "    current_file = temp.replace(' ','_')\n",
    "    \n",
    "    sub_file = sub_base + current_file + '.txt'\n",
    "    sum_file = sum_base + current_file + '.txt'\n",
    "    \n",
    "    url = base + info['site'][i]\n",
    "    \n",
    "    try:\n",
    "        response = requests.get(url,timeout = 1)\n",
    "    except  requests.exceptions.RequestException:\n",
    "        no_subs.append(info['movie'][i])\n",
    "        continue\n",
    "\n",
    "    soup = bs4.BeautifulSoup(response.content,'lxml')\n",
    "    \n",
    "    subtitle = soup.find('div',{\"class\": \"full-script\"})\n",
    "    summary = soup.find('p',{'class':'plot'})\n",
    "    \n",
    "    \n",
    "    \n",
    "    if subtitle:\n",
    "        write_sub_to_file(subtitle,sub_file)\n",
    "    else:\n",
    "        no_subs.append(info['movie'][i])\n",
    "        continue\n",
    "    \n",
    "    if summary:\n",
    "        write_summary_to_file(summary, sum_file)\n",
    "    else:\n",
    "        no_summaries.append(info['movie'][i])"
   ]
  },
  {
   "cell_type": "code",
   "execution_count": 117,
   "id": "28b398c7",
   "metadata": {},
   "outputs": [],
   "source": [
    "with open('./no_summaries.txt','w',encoding=\"utf-8\") as file:\n",
    "    for summ in no_summaries:\n",
    "        file.write(summ+'\\n')\n",
    "    file.close()"
   ]
  },
  {
   "cell_type": "code",
   "execution_count": 115,
   "id": "3cc18f45",
   "metadata": {},
   "outputs": [],
   "source": [
    "with open('./no_subs.txt','w',encoding=\"utf-8\") as file:\n",
    "    for sub in no_subs:\n",
    "        file.write(sub+'\\n')\n",
    "    file.close()"
   ]
  },
  {
   "cell_type": "code",
   "execution_count": 128,
   "id": "9677e86f",
   "metadata": {},
   "outputs": [],
   "source": [
    "import os "
   ]
  },
  {
   "cell_type": "code",
   "execution_count": 172,
   "id": "c371f04a",
   "metadata": {},
   "outputs": [],
   "source": [
    "def compare(list1, list2):\n",
    "    result = list()\n",
    "    for i in tqdm(list1):\n",
    "        temp = re.sub(r'[^\\w\\s]', '', i)\n",
    "        current_file = temp.replace(' ','_')\n",
    "\n",
    "        if current_file+'.txt' not in list2:\n",
    "            result.append(i)\n",
    "    return result"
   ]
  },
  {
   "cell_type": "code",
   "execution_count": 173,
   "id": "16a2a2e4",
   "metadata": {},
   "outputs": [
    {
     "name": "stderr",
     "output_type": "stream",
     "text": [
      "100%|██████████████████████████████████████████████████████████████████████████| 53370/53370 [00:15<00:00, 3353.08it/s]\n"
     ]
    }
   ],
   "source": [
    "not_downloaded = compare(list(info['movie']),os.listdir('./subtitles/'))"
   ]
  },
  {
   "cell_type": "code",
   "execution_count": 179,
   "id": "4b234c46",
   "metadata": {},
   "outputs": [
    {
     "data": {
      "text/plain": [
       "['Puss in Boots: The Last Wish (2022)',\n",
       " 'Big Trip 2: Special Delivery (2022)',\n",
       " 'Iliza Shlesinger: Hot Forever (2022)',\n",
       " 'Who Killed Cooper Dunn? (2022)',\n",
       " 'Honk for Jesus. Save Your Soul. (2022)',\n",
       " 'Nope (2022)',\n",
       " 'Day Shift (2022)',\n",
       " 'Not Okay (2022)',\n",
       " 'Insecure (2014)',\n",
       " 'The Giants (2011)',\n",
       " 'Boris Without Béatrice (2016)',\n",
       " 'Glue (2006)',\n",
       " 'Garçon stupide (2004)',\n",
       " 'Baduk (1992)',\n",
       " 'The Little Chimney Sweep (1935)',\n",
       " 'Der scheintote Chinese (1928)',\n",
       " 'No Regret (2006)',\n",
       " 'Atlas Shrugged: Who Is John Galt? (2014)',\n",
       " 'Gallipoli (1981)',\n",
       " 'Summer Wars (2009)',\n",
       " 'Time Lapse (2014)',\n",
       " 'Closed Circuit (2013)',\n",
       " 'Such Good People (2014)',\n",
       " 'Moon 44 (1990)',\n",
       " 'Dark Places (2015)',\n",
       " 'The Last Snows of Spring (1973)',\n",
       " 'Furious 7 (2015)',\n",
       " 'Admiral (2015)',\n",
       " 'Beyond the Lights (2014)',\n",
       " 'The Abduction of Zack Butterfield (2011)',\n",
       " 'Frozen Fever (2015)',\n",
       " 'Hot Tub Time Machine (2010)',\n",
       " 'Heropanti (2014)',\n",
       " 'Descendants (2015)',\n",
       " 'Far from the Madding Crowd (2015)',\n",
       " 'The Rules of the Game (1939)',\n",
       " 'The Face of an Angel (2014)',\n",
       " 'Cool World (1992)',\n",
       " 'To Paint or Make Love (2005)',\n",
       " 'View from the Top (2003)',\n",
       " 'The Salt of the Earth (2014)',\n",
       " 'Far from Men (2014)',\n",
       " 'Mad Max Beyond Thunderdome (1985)',\n",
       " 'Little Soldier (2008)',\n",
       " 'The Princess Diaries (2001)',\n",
       " 'The Rickshaw Man (1958)',\n",
       " 'Indiana Jones and the Last Crusade (1989)',\n",
       " 'After the Dark (2013)',\n",
       " 'Raiders of the Lost Ark (1981)',\n",
       " 'Der Samurai (2014)',\n",
       " 'Turner & Hooch (1989)',\n",
       " 'The Lazarus Effect (2015)',\n",
       " 'Alexander and the Terrible, Horrible, No Good, Very Bad Day (2014)',\n",
       " \"She's the Man (2006)\",\n",
       " 'Asterix and Obelix vs. Caesar (1999)',\n",
       " '5 Flights Up (2014)',\n",
       " 'Aloha (2015)',\n",
       " 'Batman Begins (2005)',\n",
       " '2047: Sights of Death (2014)',\n",
       " 'The Yes Men Fix the World (2009)',\n",
       " 'Travelling Circus (1988)',\n",
       " 'Café de Flore (2011)',\n",
       " 'Definitely, Maybe (2008)',\n",
       " 'Trilogy of Lust (1995)',\n",
       " 'Night Watch (2004)',\n",
       " 'Rudo y Cursi (2008)',\n",
       " 'Cats & Dogs: The Revenge of Kitty Galore (2010)',\n",
       " 'The Terrorizers (1986)',\n",
       " 'Eating Out 2: Sloppy Seconds (2006)',\n",
       " '$ (1971)']"
      ]
     },
     "execution_count": 179,
     "metadata": {},
     "output_type": "execute_result"
    }
   ],
   "source": [
    "not_downloaded"
   ]
  },
  {
   "cell_type": "code",
   "execution_count": 178,
   "id": "ebb949d7",
   "metadata": {},
   "outputs": [
    {
     "name": "stderr",
     "output_type": "stream",
     "text": [
      "  1%|█▏                                                                                 | 1/70 [00:02<02:38,  2.30s/it]\n"
     ]
    },
    {
     "ename": "KeyboardInterrupt",
     "evalue": "",
     "output_type": "error",
     "traceback": [
      "\u001b[1;31m---------------------------------------------------------------------------\u001b[0m",
      "\u001b[1;31mKeyboardInterrupt\u001b[0m                         Traceback (most recent call last)",
      "Cell \u001b[1;32mIn [178], line 20\u001b[0m\n\u001b[0;32m     18\u001b[0m url \u001b[38;5;241m=\u001b[39m base \u001b[38;5;241m+\u001b[39m site_loc\u001b[38;5;241m.\u001b[39mvalues[\u001b[38;5;241m0\u001b[39m][\u001b[38;5;241m1\u001b[39m]\n\u001b[0;32m     19\u001b[0m \u001b[38;5;28;01mtry\u001b[39;00m:\n\u001b[1;32m---> 20\u001b[0m     response \u001b[38;5;241m=\u001b[39m \u001b[43mrequests\u001b[49m\u001b[38;5;241;43m.\u001b[39;49m\u001b[43mget\u001b[49m\u001b[43m(\u001b[49m\u001b[43murl\u001b[49m\u001b[43m,\u001b[49m\u001b[43mtimeout\u001b[49m\u001b[43m \u001b[49m\u001b[38;5;241;43m=\u001b[39;49m\u001b[43m \u001b[49m\u001b[38;5;241;43m1\u001b[39;49m\u001b[43m)\u001b[49m\n\u001b[0;32m     21\u001b[0m \u001b[38;5;28;01mexcept\u001b[39;00m  requests\u001b[38;5;241m.\u001b[39mexceptions\u001b[38;5;241m.\u001b[39mRequestException:\n\u001b[0;32m     22\u001b[0m     temp_no_subs\u001b[38;5;241m.\u001b[39mappend(movie_name)\n",
      "File \u001b[1;32mC:\\ProgramData\\Anaconda3\\lib\\site-packages\\requests\\api.py:73\u001b[0m, in \u001b[0;36mget\u001b[1;34m(url, params, **kwargs)\u001b[0m\n\u001b[0;32m     62\u001b[0m \u001b[38;5;28;01mdef\u001b[39;00m \u001b[38;5;21mget\u001b[39m(url, params\u001b[38;5;241m=\u001b[39m\u001b[38;5;28;01mNone\u001b[39;00m, \u001b[38;5;241m*\u001b[39m\u001b[38;5;241m*\u001b[39mkwargs):\n\u001b[0;32m     63\u001b[0m     \u001b[38;5;124mr\u001b[39m\u001b[38;5;124;03m\"\"\"Sends a GET request.\u001b[39;00m\n\u001b[0;32m     64\u001b[0m \n\u001b[0;32m     65\u001b[0m \u001b[38;5;124;03m    :param url: URL for the new :class:`Request` object.\u001b[39;00m\n\u001b[1;32m   (...)\u001b[0m\n\u001b[0;32m     70\u001b[0m \u001b[38;5;124;03m    :rtype: requests.Response\u001b[39;00m\n\u001b[0;32m     71\u001b[0m \u001b[38;5;124;03m    \"\"\"\u001b[39;00m\n\u001b[1;32m---> 73\u001b[0m     \u001b[38;5;28;01mreturn\u001b[39;00m request(\u001b[38;5;124m\"\u001b[39m\u001b[38;5;124mget\u001b[39m\u001b[38;5;124m\"\u001b[39m, url, params\u001b[38;5;241m=\u001b[39mparams, \u001b[38;5;241m*\u001b[39m\u001b[38;5;241m*\u001b[39mkwargs)\n",
      "File \u001b[1;32mC:\\ProgramData\\Anaconda3\\lib\\site-packages\\requests\\api.py:59\u001b[0m, in \u001b[0;36mrequest\u001b[1;34m(method, url, **kwargs)\u001b[0m\n\u001b[0;32m     55\u001b[0m \u001b[38;5;66;03m# By using the 'with' statement we are sure the session is closed, thus we\u001b[39;00m\n\u001b[0;32m     56\u001b[0m \u001b[38;5;66;03m# avoid leaving sockets open which can trigger a ResourceWarning in some\u001b[39;00m\n\u001b[0;32m     57\u001b[0m \u001b[38;5;66;03m# cases, and look like a memory leak in others.\u001b[39;00m\n\u001b[0;32m     58\u001b[0m \u001b[38;5;28;01mwith\u001b[39;00m sessions\u001b[38;5;241m.\u001b[39mSession() \u001b[38;5;28;01mas\u001b[39;00m session:\n\u001b[1;32m---> 59\u001b[0m     \u001b[38;5;28;01mreturn\u001b[39;00m session\u001b[38;5;241m.\u001b[39mrequest(method\u001b[38;5;241m=\u001b[39mmethod, url\u001b[38;5;241m=\u001b[39murl, \u001b[38;5;241m*\u001b[39m\u001b[38;5;241m*\u001b[39mkwargs)\n",
      "File \u001b[1;32mC:\\ProgramData\\Anaconda3\\lib\\site-packages\\requests\\sessions.py:587\u001b[0m, in \u001b[0;36mSession.request\u001b[1;34m(self, method, url, params, data, headers, cookies, files, auth, timeout, allow_redirects, proxies, hooks, stream, verify, cert, json)\u001b[0m\n\u001b[0;32m    582\u001b[0m send_kwargs \u001b[38;5;241m=\u001b[39m {\n\u001b[0;32m    583\u001b[0m     \u001b[38;5;124m\"\u001b[39m\u001b[38;5;124mtimeout\u001b[39m\u001b[38;5;124m\"\u001b[39m: timeout,\n\u001b[0;32m    584\u001b[0m     \u001b[38;5;124m\"\u001b[39m\u001b[38;5;124mallow_redirects\u001b[39m\u001b[38;5;124m\"\u001b[39m: allow_redirects,\n\u001b[0;32m    585\u001b[0m }\n\u001b[0;32m    586\u001b[0m send_kwargs\u001b[38;5;241m.\u001b[39mupdate(settings)\n\u001b[1;32m--> 587\u001b[0m resp \u001b[38;5;241m=\u001b[39m \u001b[38;5;28mself\u001b[39m\u001b[38;5;241m.\u001b[39msend(prep, \u001b[38;5;241m*\u001b[39m\u001b[38;5;241m*\u001b[39msend_kwargs)\n\u001b[0;32m    589\u001b[0m \u001b[38;5;28;01mreturn\u001b[39;00m resp\n",
      "File \u001b[1;32mC:\\ProgramData\\Anaconda3\\lib\\site-packages\\requests\\sessions.py:701\u001b[0m, in \u001b[0;36mSession.send\u001b[1;34m(self, request, **kwargs)\u001b[0m\n\u001b[0;32m    698\u001b[0m start \u001b[38;5;241m=\u001b[39m preferred_clock()\n\u001b[0;32m    700\u001b[0m \u001b[38;5;66;03m# Send the request\u001b[39;00m\n\u001b[1;32m--> 701\u001b[0m r \u001b[38;5;241m=\u001b[39m adapter\u001b[38;5;241m.\u001b[39msend(request, \u001b[38;5;241m*\u001b[39m\u001b[38;5;241m*\u001b[39mkwargs)\n\u001b[0;32m    703\u001b[0m \u001b[38;5;66;03m# Total elapsed time of the request (approximately)\u001b[39;00m\n\u001b[0;32m    704\u001b[0m elapsed \u001b[38;5;241m=\u001b[39m preferred_clock() \u001b[38;5;241m-\u001b[39m start\n",
      "File \u001b[1;32mC:\\ProgramData\\Anaconda3\\lib\\site-packages\\requests\\adapters.py:489\u001b[0m, in \u001b[0;36mHTTPAdapter.send\u001b[1;34m(self, request, stream, timeout, verify, cert, proxies)\u001b[0m\n\u001b[0;32m    487\u001b[0m \u001b[38;5;28;01mtry\u001b[39;00m:\n\u001b[0;32m    488\u001b[0m     \u001b[38;5;28;01mif\u001b[39;00m \u001b[38;5;129;01mnot\u001b[39;00m chunked:\n\u001b[1;32m--> 489\u001b[0m         resp \u001b[38;5;241m=\u001b[39m \u001b[43mconn\u001b[49m\u001b[38;5;241;43m.\u001b[39;49m\u001b[43murlopen\u001b[49m\u001b[43m(\u001b[49m\n\u001b[0;32m    490\u001b[0m \u001b[43m            \u001b[49m\u001b[43mmethod\u001b[49m\u001b[38;5;241;43m=\u001b[39;49m\u001b[43mrequest\u001b[49m\u001b[38;5;241;43m.\u001b[39;49m\u001b[43mmethod\u001b[49m\u001b[43m,\u001b[49m\n\u001b[0;32m    491\u001b[0m \u001b[43m            \u001b[49m\u001b[43murl\u001b[49m\u001b[38;5;241;43m=\u001b[39;49m\u001b[43murl\u001b[49m\u001b[43m,\u001b[49m\n\u001b[0;32m    492\u001b[0m \u001b[43m            \u001b[49m\u001b[43mbody\u001b[49m\u001b[38;5;241;43m=\u001b[39;49m\u001b[43mrequest\u001b[49m\u001b[38;5;241;43m.\u001b[39;49m\u001b[43mbody\u001b[49m\u001b[43m,\u001b[49m\n\u001b[0;32m    493\u001b[0m \u001b[43m            \u001b[49m\u001b[43mheaders\u001b[49m\u001b[38;5;241;43m=\u001b[39;49m\u001b[43mrequest\u001b[49m\u001b[38;5;241;43m.\u001b[39;49m\u001b[43mheaders\u001b[49m\u001b[43m,\u001b[49m\n\u001b[0;32m    494\u001b[0m \u001b[43m            \u001b[49m\u001b[43mredirect\u001b[49m\u001b[38;5;241;43m=\u001b[39;49m\u001b[38;5;28;43;01mFalse\u001b[39;49;00m\u001b[43m,\u001b[49m\n\u001b[0;32m    495\u001b[0m \u001b[43m            \u001b[49m\u001b[43massert_same_host\u001b[49m\u001b[38;5;241;43m=\u001b[39;49m\u001b[38;5;28;43;01mFalse\u001b[39;49;00m\u001b[43m,\u001b[49m\n\u001b[0;32m    496\u001b[0m \u001b[43m            \u001b[49m\u001b[43mpreload_content\u001b[49m\u001b[38;5;241;43m=\u001b[39;49m\u001b[38;5;28;43;01mFalse\u001b[39;49;00m\u001b[43m,\u001b[49m\n\u001b[0;32m    497\u001b[0m \u001b[43m            \u001b[49m\u001b[43mdecode_content\u001b[49m\u001b[38;5;241;43m=\u001b[39;49m\u001b[38;5;28;43;01mFalse\u001b[39;49;00m\u001b[43m,\u001b[49m\n\u001b[0;32m    498\u001b[0m \u001b[43m            \u001b[49m\u001b[43mretries\u001b[49m\u001b[38;5;241;43m=\u001b[39;49m\u001b[38;5;28;43mself\u001b[39;49m\u001b[38;5;241;43m.\u001b[39;49m\u001b[43mmax_retries\u001b[49m\u001b[43m,\u001b[49m\n\u001b[0;32m    499\u001b[0m \u001b[43m            \u001b[49m\u001b[43mtimeout\u001b[49m\u001b[38;5;241;43m=\u001b[39;49m\u001b[43mtimeout\u001b[49m\u001b[43m,\u001b[49m\n\u001b[0;32m    500\u001b[0m \u001b[43m        \u001b[49m\u001b[43m)\u001b[49m\n\u001b[0;32m    502\u001b[0m     \u001b[38;5;66;03m# Send the request.\u001b[39;00m\n\u001b[0;32m    503\u001b[0m     \u001b[38;5;28;01melse\u001b[39;00m:\n\u001b[0;32m    504\u001b[0m         \u001b[38;5;28;01mif\u001b[39;00m \u001b[38;5;28mhasattr\u001b[39m(conn, \u001b[38;5;124m\"\u001b[39m\u001b[38;5;124mproxy_pool\u001b[39m\u001b[38;5;124m\"\u001b[39m):\n",
      "File \u001b[1;32mC:\\ProgramData\\Anaconda3\\lib\\site-packages\\urllib3\\connectionpool.py:703\u001b[0m, in \u001b[0;36mHTTPConnectionPool.urlopen\u001b[1;34m(self, method, url, body, headers, retries, redirect, assert_same_host, timeout, pool_timeout, release_conn, chunked, body_pos, **response_kw)\u001b[0m\n\u001b[0;32m    700\u001b[0m     \u001b[38;5;28mself\u001b[39m\u001b[38;5;241m.\u001b[39m_prepare_proxy(conn)\n\u001b[0;32m    702\u001b[0m \u001b[38;5;66;03m# Make the request on the httplib connection object.\u001b[39;00m\n\u001b[1;32m--> 703\u001b[0m httplib_response \u001b[38;5;241m=\u001b[39m \u001b[38;5;28;43mself\u001b[39;49m\u001b[38;5;241;43m.\u001b[39;49m\u001b[43m_make_request\u001b[49m\u001b[43m(\u001b[49m\n\u001b[0;32m    704\u001b[0m \u001b[43m    \u001b[49m\u001b[43mconn\u001b[49m\u001b[43m,\u001b[49m\n\u001b[0;32m    705\u001b[0m \u001b[43m    \u001b[49m\u001b[43mmethod\u001b[49m\u001b[43m,\u001b[49m\n\u001b[0;32m    706\u001b[0m \u001b[43m    \u001b[49m\u001b[43murl\u001b[49m\u001b[43m,\u001b[49m\n\u001b[0;32m    707\u001b[0m \u001b[43m    \u001b[49m\u001b[43mtimeout\u001b[49m\u001b[38;5;241;43m=\u001b[39;49m\u001b[43mtimeout_obj\u001b[49m\u001b[43m,\u001b[49m\n\u001b[0;32m    708\u001b[0m \u001b[43m    \u001b[49m\u001b[43mbody\u001b[49m\u001b[38;5;241;43m=\u001b[39;49m\u001b[43mbody\u001b[49m\u001b[43m,\u001b[49m\n\u001b[0;32m    709\u001b[0m \u001b[43m    \u001b[49m\u001b[43mheaders\u001b[49m\u001b[38;5;241;43m=\u001b[39;49m\u001b[43mheaders\u001b[49m\u001b[43m,\u001b[49m\n\u001b[0;32m    710\u001b[0m \u001b[43m    \u001b[49m\u001b[43mchunked\u001b[49m\u001b[38;5;241;43m=\u001b[39;49m\u001b[43mchunked\u001b[49m\u001b[43m,\u001b[49m\n\u001b[0;32m    711\u001b[0m \u001b[43m\u001b[49m\u001b[43m)\u001b[49m\n\u001b[0;32m    713\u001b[0m \u001b[38;5;66;03m# If we're going to release the connection in ``finally:``, then\u001b[39;00m\n\u001b[0;32m    714\u001b[0m \u001b[38;5;66;03m# the response doesn't need to know about the connection. Otherwise\u001b[39;00m\n\u001b[0;32m    715\u001b[0m \u001b[38;5;66;03m# it will also try to release it and we'll have a double-release\u001b[39;00m\n\u001b[0;32m    716\u001b[0m \u001b[38;5;66;03m# mess.\u001b[39;00m\n\u001b[0;32m    717\u001b[0m response_conn \u001b[38;5;241m=\u001b[39m conn \u001b[38;5;28;01mif\u001b[39;00m \u001b[38;5;129;01mnot\u001b[39;00m release_conn \u001b[38;5;28;01melse\u001b[39;00m \u001b[38;5;28;01mNone\u001b[39;00m\n",
      "File \u001b[1;32mC:\\ProgramData\\Anaconda3\\lib\\site-packages\\urllib3\\connectionpool.py:449\u001b[0m, in \u001b[0;36mHTTPConnectionPool._make_request\u001b[1;34m(self, conn, method, url, timeout, chunked, **httplib_request_kw)\u001b[0m\n\u001b[0;32m    444\u001b[0m             httplib_response \u001b[38;5;241m=\u001b[39m conn\u001b[38;5;241m.\u001b[39mgetresponse()\n\u001b[0;32m    445\u001b[0m         \u001b[38;5;28;01mexcept\u001b[39;00m \u001b[38;5;167;01mBaseException\u001b[39;00m \u001b[38;5;28;01mas\u001b[39;00m e:\n\u001b[0;32m    446\u001b[0m             \u001b[38;5;66;03m# Remove the TypeError from the exception chain in\u001b[39;00m\n\u001b[0;32m    447\u001b[0m             \u001b[38;5;66;03m# Python 3 (including for exceptions like SystemExit).\u001b[39;00m\n\u001b[0;32m    448\u001b[0m             \u001b[38;5;66;03m# Otherwise it looks like a bug in the code.\u001b[39;00m\n\u001b[1;32m--> 449\u001b[0m             \u001b[43msix\u001b[49m\u001b[38;5;241;43m.\u001b[39;49m\u001b[43mraise_from\u001b[49m\u001b[43m(\u001b[49m\u001b[43me\u001b[49m\u001b[43m,\u001b[49m\u001b[43m \u001b[49m\u001b[38;5;28;43;01mNone\u001b[39;49;00m\u001b[43m)\u001b[49m\n\u001b[0;32m    450\u001b[0m \u001b[38;5;28;01mexcept\u001b[39;00m (SocketTimeout, BaseSSLError, SocketError) \u001b[38;5;28;01mas\u001b[39;00m e:\n\u001b[0;32m    451\u001b[0m     \u001b[38;5;28mself\u001b[39m\u001b[38;5;241m.\u001b[39m_raise_timeout(err\u001b[38;5;241m=\u001b[39me, url\u001b[38;5;241m=\u001b[39murl, timeout_value\u001b[38;5;241m=\u001b[39mread_timeout)\n",
      "File \u001b[1;32m<string>:3\u001b[0m, in \u001b[0;36mraise_from\u001b[1;34m(value, from_value)\u001b[0m\n",
      "File \u001b[1;32mC:\\ProgramData\\Anaconda3\\lib\\site-packages\\urllib3\\connectionpool.py:444\u001b[0m, in \u001b[0;36mHTTPConnectionPool._make_request\u001b[1;34m(self, conn, method, url, timeout, chunked, **httplib_request_kw)\u001b[0m\n\u001b[0;32m    441\u001b[0m \u001b[38;5;28;01mexcept\u001b[39;00m \u001b[38;5;167;01mTypeError\u001b[39;00m:\n\u001b[0;32m    442\u001b[0m     \u001b[38;5;66;03m# Python 3\u001b[39;00m\n\u001b[0;32m    443\u001b[0m     \u001b[38;5;28;01mtry\u001b[39;00m:\n\u001b[1;32m--> 444\u001b[0m         httplib_response \u001b[38;5;241m=\u001b[39m \u001b[43mconn\u001b[49m\u001b[38;5;241;43m.\u001b[39;49m\u001b[43mgetresponse\u001b[49m\u001b[43m(\u001b[49m\u001b[43m)\u001b[49m\n\u001b[0;32m    445\u001b[0m     \u001b[38;5;28;01mexcept\u001b[39;00m \u001b[38;5;167;01mBaseException\u001b[39;00m \u001b[38;5;28;01mas\u001b[39;00m e:\n\u001b[0;32m    446\u001b[0m         \u001b[38;5;66;03m# Remove the TypeError from the exception chain in\u001b[39;00m\n\u001b[0;32m    447\u001b[0m         \u001b[38;5;66;03m# Python 3 (including for exceptions like SystemExit).\u001b[39;00m\n\u001b[0;32m    448\u001b[0m         \u001b[38;5;66;03m# Otherwise it looks like a bug in the code.\u001b[39;00m\n\u001b[0;32m    449\u001b[0m         six\u001b[38;5;241m.\u001b[39mraise_from(e, \u001b[38;5;28;01mNone\u001b[39;00m)\n",
      "File \u001b[1;32mC:\\ProgramData\\Anaconda3\\lib\\http\\client.py:1377\u001b[0m, in \u001b[0;36mHTTPConnection.getresponse\u001b[1;34m(self)\u001b[0m\n\u001b[0;32m   1375\u001b[0m \u001b[38;5;28;01mtry\u001b[39;00m:\n\u001b[0;32m   1376\u001b[0m     \u001b[38;5;28;01mtry\u001b[39;00m:\n\u001b[1;32m-> 1377\u001b[0m         \u001b[43mresponse\u001b[49m\u001b[38;5;241;43m.\u001b[39;49m\u001b[43mbegin\u001b[49m\u001b[43m(\u001b[49m\u001b[43m)\u001b[49m\n\u001b[0;32m   1378\u001b[0m     \u001b[38;5;28;01mexcept\u001b[39;00m \u001b[38;5;167;01mConnectionError\u001b[39;00m:\n\u001b[0;32m   1379\u001b[0m         \u001b[38;5;28mself\u001b[39m\u001b[38;5;241m.\u001b[39mclose()\n",
      "File \u001b[1;32mC:\\ProgramData\\Anaconda3\\lib\\http\\client.py:320\u001b[0m, in \u001b[0;36mHTTPResponse.begin\u001b[1;34m(self)\u001b[0m\n\u001b[0;32m    318\u001b[0m \u001b[38;5;66;03m# read until we get a non-100 response\u001b[39;00m\n\u001b[0;32m    319\u001b[0m \u001b[38;5;28;01mwhile\u001b[39;00m \u001b[38;5;28;01mTrue\u001b[39;00m:\n\u001b[1;32m--> 320\u001b[0m     version, status, reason \u001b[38;5;241m=\u001b[39m \u001b[38;5;28;43mself\u001b[39;49m\u001b[38;5;241;43m.\u001b[39;49m\u001b[43m_read_status\u001b[49m\u001b[43m(\u001b[49m\u001b[43m)\u001b[49m\n\u001b[0;32m    321\u001b[0m     \u001b[38;5;28;01mif\u001b[39;00m status \u001b[38;5;241m!=\u001b[39m CONTINUE:\n\u001b[0;32m    322\u001b[0m         \u001b[38;5;28;01mbreak\u001b[39;00m\n",
      "File \u001b[1;32mC:\\ProgramData\\Anaconda3\\lib\\http\\client.py:281\u001b[0m, in \u001b[0;36mHTTPResponse._read_status\u001b[1;34m(self)\u001b[0m\n\u001b[0;32m    280\u001b[0m \u001b[38;5;28;01mdef\u001b[39;00m \u001b[38;5;21m_read_status\u001b[39m(\u001b[38;5;28mself\u001b[39m):\n\u001b[1;32m--> 281\u001b[0m     line \u001b[38;5;241m=\u001b[39m \u001b[38;5;28mstr\u001b[39m(\u001b[38;5;28;43mself\u001b[39;49m\u001b[38;5;241;43m.\u001b[39;49m\u001b[43mfp\u001b[49m\u001b[38;5;241;43m.\u001b[39;49m\u001b[43mreadline\u001b[49m\u001b[43m(\u001b[49m\u001b[43m_MAXLINE\u001b[49m\u001b[43m \u001b[49m\u001b[38;5;241;43m+\u001b[39;49m\u001b[43m \u001b[49m\u001b[38;5;241;43m1\u001b[39;49m\u001b[43m)\u001b[49m, \u001b[38;5;124m\"\u001b[39m\u001b[38;5;124miso-8859-1\u001b[39m\u001b[38;5;124m\"\u001b[39m)\n\u001b[0;32m    282\u001b[0m     \u001b[38;5;28;01mif\u001b[39;00m \u001b[38;5;28mlen\u001b[39m(line) \u001b[38;5;241m>\u001b[39m _MAXLINE:\n\u001b[0;32m    283\u001b[0m         \u001b[38;5;28;01mraise\u001b[39;00m LineTooLong(\u001b[38;5;124m\"\u001b[39m\u001b[38;5;124mstatus line\u001b[39m\u001b[38;5;124m\"\u001b[39m)\n",
      "File \u001b[1;32mC:\\ProgramData\\Anaconda3\\lib\\socket.py:704\u001b[0m, in \u001b[0;36mSocketIO.readinto\u001b[1;34m(self, b)\u001b[0m\n\u001b[0;32m    702\u001b[0m \u001b[38;5;28;01mwhile\u001b[39;00m \u001b[38;5;28;01mTrue\u001b[39;00m:\n\u001b[0;32m    703\u001b[0m     \u001b[38;5;28;01mtry\u001b[39;00m:\n\u001b[1;32m--> 704\u001b[0m         \u001b[38;5;28;01mreturn\u001b[39;00m \u001b[38;5;28;43mself\u001b[39;49m\u001b[38;5;241;43m.\u001b[39;49m\u001b[43m_sock\u001b[49m\u001b[38;5;241;43m.\u001b[39;49m\u001b[43mrecv_into\u001b[49m\u001b[43m(\u001b[49m\u001b[43mb\u001b[49m\u001b[43m)\u001b[49m\n\u001b[0;32m    705\u001b[0m     \u001b[38;5;28;01mexcept\u001b[39;00m timeout:\n\u001b[0;32m    706\u001b[0m         \u001b[38;5;28mself\u001b[39m\u001b[38;5;241m.\u001b[39m_timeout_occurred \u001b[38;5;241m=\u001b[39m \u001b[38;5;28;01mTrue\u001b[39;00m\n",
      "File \u001b[1;32mC:\\ProgramData\\Anaconda3\\lib\\ssl.py:1242\u001b[0m, in \u001b[0;36mSSLSocket.recv_into\u001b[1;34m(self, buffer, nbytes, flags)\u001b[0m\n\u001b[0;32m   1238\u001b[0m     \u001b[38;5;28;01mif\u001b[39;00m flags \u001b[38;5;241m!=\u001b[39m \u001b[38;5;241m0\u001b[39m:\n\u001b[0;32m   1239\u001b[0m         \u001b[38;5;28;01mraise\u001b[39;00m \u001b[38;5;167;01mValueError\u001b[39;00m(\n\u001b[0;32m   1240\u001b[0m           \u001b[38;5;124m\"\u001b[39m\u001b[38;5;124mnon-zero flags not allowed in calls to recv_into() on \u001b[39m\u001b[38;5;132;01m%s\u001b[39;00m\u001b[38;5;124m\"\u001b[39m \u001b[38;5;241m%\u001b[39m\n\u001b[0;32m   1241\u001b[0m           \u001b[38;5;28mself\u001b[39m\u001b[38;5;241m.\u001b[39m\u001b[38;5;18m__class__\u001b[39m)\n\u001b[1;32m-> 1242\u001b[0m     \u001b[38;5;28;01mreturn\u001b[39;00m \u001b[38;5;28;43mself\u001b[39;49m\u001b[38;5;241;43m.\u001b[39;49m\u001b[43mread\u001b[49m\u001b[43m(\u001b[49m\u001b[43mnbytes\u001b[49m\u001b[43m,\u001b[49m\u001b[43m \u001b[49m\u001b[43mbuffer\u001b[49m\u001b[43m)\u001b[49m\n\u001b[0;32m   1243\u001b[0m \u001b[38;5;28;01melse\u001b[39;00m:\n\u001b[0;32m   1244\u001b[0m     \u001b[38;5;28;01mreturn\u001b[39;00m \u001b[38;5;28msuper\u001b[39m()\u001b[38;5;241m.\u001b[39mrecv_into(buffer, nbytes, flags)\n",
      "File \u001b[1;32mC:\\ProgramData\\Anaconda3\\lib\\ssl.py:1100\u001b[0m, in \u001b[0;36mSSLSocket.read\u001b[1;34m(self, len, buffer)\u001b[0m\n\u001b[0;32m   1098\u001b[0m \u001b[38;5;28;01mtry\u001b[39;00m:\n\u001b[0;32m   1099\u001b[0m     \u001b[38;5;28;01mif\u001b[39;00m buffer \u001b[38;5;129;01mis\u001b[39;00m \u001b[38;5;129;01mnot\u001b[39;00m \u001b[38;5;28;01mNone\u001b[39;00m:\n\u001b[1;32m-> 1100\u001b[0m         \u001b[38;5;28;01mreturn\u001b[39;00m \u001b[38;5;28;43mself\u001b[39;49m\u001b[38;5;241;43m.\u001b[39;49m\u001b[43m_sslobj\u001b[49m\u001b[38;5;241;43m.\u001b[39;49m\u001b[43mread\u001b[49m\u001b[43m(\u001b[49m\u001b[38;5;28;43mlen\u001b[39;49m\u001b[43m,\u001b[49m\u001b[43m \u001b[49m\u001b[43mbuffer\u001b[49m\u001b[43m)\u001b[49m\n\u001b[0;32m   1101\u001b[0m     \u001b[38;5;28;01melse\u001b[39;00m:\n\u001b[0;32m   1102\u001b[0m         \u001b[38;5;28;01mreturn\u001b[39;00m \u001b[38;5;28mself\u001b[39m\u001b[38;5;241m.\u001b[39m_sslobj\u001b[38;5;241m.\u001b[39mread(\u001b[38;5;28mlen\u001b[39m)\n",
      "\u001b[1;31mKeyboardInterrupt\u001b[0m: "
     ]
    }
   ],
   "source": [
    "base = 'https://subslikescript.com/'\n",
    "sub_base = './_12subtitles/'\n",
    "sum_base = './_12summary/'\n",
    "\n",
    "temp_no_subs = []\n",
    "temp_no_summs = []\n",
    "\n",
    "for movie_name in tqdm(not_downloaded):\n",
    "\n",
    "    temp = re.sub(r'[^\\w\\s]', '', movie_name)\n",
    "    current_file = temp.replace(' ','_')\n",
    "    \n",
    "    sub_file = sub_base + current_file + '.txt'\n",
    "    sum_file = sum_base + current_file + '.txt'\n",
    "    \n",
    "    site_loc = info.loc[info['movie'] == movie_name]\n",
    "    \n",
    "    url = base + site_loc.values[0][1]\n",
    "    try:\n",
    "        response = requests.get(url,timeout = 1)\n",
    "    except  requests.exceptions.RequestException:\n",
    "        temp_no_subs.append(movie_name)\n",
    "        continue\n",
    "        \n",
    "    soup = bs4.BeautifulSoup(response.content,'lxml')\n",
    "    \n",
    "    subtitle = soup.find('div',{\"class\": \"full-script\"})\n",
    "    summary = soup.find('p',{'class':'plot'})\n",
    "    \n",
    "    \n",
    "    \n",
    "    if subtitle:\n",
    "        write_sub_to_file(subtitle,sub_file)\n",
    "    else:\n",
    "        temp_no_subs.append(movie_name)\n",
    "        continue\n",
    "    \n",
    "    if summary:\n",
    "        write_summary_to_file(summary, sum_file)\n",
    "    else:\n",
    "        temp_no_summs.append(movie_name)"
   ]
  },
  {
   "cell_type": "code",
   "execution_count": null,
   "id": "888a13e8",
   "metadata": {},
   "outputs": [],
   "source": []
  }
 ],
 "metadata": {
  "kernelspec": {
   "display_name": "Python 3 (ipykernel)",
   "language": "python",
   "name": "python3"
  },
  "language_info": {
   "codemirror_mode": {
    "name": "ipython",
    "version": 3
   },
   "file_extension": ".py",
   "mimetype": "text/x-python",
   "name": "python",
   "nbconvert_exporter": "python",
   "pygments_lexer": "ipython3",
   "version": "3.9.13"
  }
 },
 "nbformat": 4,
 "nbformat_minor": 5
}
