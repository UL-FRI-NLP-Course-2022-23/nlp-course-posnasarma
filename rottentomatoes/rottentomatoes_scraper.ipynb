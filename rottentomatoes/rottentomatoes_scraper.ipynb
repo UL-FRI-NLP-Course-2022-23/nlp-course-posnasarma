{
 "cells": [
  {
   "cell_type": "code",
   "execution_count": 1,
   "id": "bed77199",
   "metadata": {},
   "outputs": [],
   "source": [
    "# Loading all the libraries needed for running the code chunks below\n",
    "\n",
    "import json\n",
    "import matplotlib.pyplot as plt\n",
    "import numpy as np\n",
    "import time\n",
    "import csv\n",
    "from selenium import webdriver\n",
    "from selenium.webdriver.common.by import By\n",
    "from selenium.webdriver.common.keys import Keys\n",
    "from selenium.common.exceptions import NoSuchElementException\n",
    "from selenium.common.exceptions import ElementClickInterceptedException\n"
   ]
  },
  {
   "cell_type": "code",
   "execution_count": 19,
   "id": "a28a71bb",
   "metadata": {},
   "outputs": [],
   "source": [
    "def parse_movie(link):   \n",
    "    \n",
    "    #movie_data = {'title':'','year':'', 'genre':'', 'summary':'', 'starring':'', 'director':'', 'runtime':''}\n",
    "    movie_data = {'link':'','title':'', 'summary':'', 'year':'', 'genre':'', 'runtime':''}\n",
    "    driver.get(link)\n",
    "    driver.implicitly_wait(1)\n",
    "    html = driver.page_source\n",
    "    titles = []\n",
    "    \n",
    "    movie_data['link'] = link\n",
    "    \n",
    "    try:\n",
    "        button = driver.find_element(By.ID, 'onetrust-reject-all-handler')\n",
    "        button.click()\n",
    "    except NoSuchElementException:\n",
    "        pass\n",
    "    \n",
    "    try:\n",
    "        title = driver.find_element(By.TAG_NAME, 'h1')\n",
    "        movie_data['title'] = title.text\n",
    "        titles.append(title.text)\n",
    "    except NoSuchElementException:\n",
    "        pass \n",
    "    \n",
    "    try:\n",
    "        info = driver.find_element(By.CLASS_NAME, 'scoreboard__info')\n",
    "        info_string = info.text\n",
    "        \n",
    "        # split the string into a list based on the commas\n",
    "        info_list = info_string.split(\", \")\n",
    "\n",
    "        # extract the individual values from the list\n",
    "        movie_data['year'] = int(info_list[0])\n",
    "        if len(info_list)>1:\n",
    "            movie_data['genre'] = info_list[1]\n",
    "        if len(info_list)>2:\n",
    "            movie_data['runtime'] = info_list[2]\n",
    "        \n",
    "    except NoSuchElementException:\n",
    "        pass \n",
    "   \n",
    "    try:\n",
    "        summary = driver.find_element(By.CLASS_NAME, 'media-body')\n",
    "        summary2 = summary.find_element(By.TAG_NAME, 'p')\n",
    "        movie_data['summary'] = summary2.text\n",
    "    except NoSuchElementException:\n",
    "        pass\n",
    "    \n",
    "    \n",
    "    return movie_data, titles"
   ]
  },
  {
   "cell_type": "code",
   "execution_count": 22,
   "id": "bed1e67a",
   "metadata": {},
   "outputs": [
    {
     "name": "stdout",
     "output_type": "stream",
     "text": [
      "Parsing time: 3582.5282909870148\n"
     ]
    }
   ],
   "source": [
    "# Main code chunk\n",
    "\n",
    "driver = webdriver.Chrome('chromedriver')\n",
    "#main_link = 'https://www.metacritic.com/movie/'\n",
    "\n",
    "with open('movie_titles_for_rotten.txt', 'r') as f:\n",
    "    movie_titles = [line.strip() for line in f]\n",
    "\n",
    "urls = [\"https://www.rottentomatoes.com/m/\" + title for title in movie_titles]\n",
    "\n",
    "start = time.time()\n",
    "\n",
    "data = []\n",
    "titles = []\n",
    "for link in urls:\n",
    "    data_l, titles_l = parse_movie(link)\n",
    "    if titles_l == '':\n",
    "        continue\n",
    "    data.append(data_l)\n",
    "    titles.append(titles_l)\n",
    "\n",
    "end = time.time()\n",
    "print('Parsing time:', end-start)\n",
    "driver.close()\n",
    "\n",
    "with open(\"movie_data_rotten.json\", \"w\", encoding='utf-8') as jsonfile:\n",
    "    json.dump(data, jsonfile, ensure_ascii=False, indent = 2)\n",
    "    \n",
    "with open('rotten_titles.txt', 'w') as f:\n",
    "    f.write(str(titles))"
   ]
  },
  {
   "cell_type": "code",
   "execution_count": null,
   "id": "79878fe2",
   "metadata": {},
   "outputs": [],
   "source": [
    "with open(\"rotten_titles.csv\", \"w\", newline=\"\", encoding='utf-8') as file:\n",
    "    writer = csv.writer(file)\n",
    "    writer.writerow(titles)"
   ]
  },
  {
   "cell_type": "code",
   "execution_count": null,
   "id": "cbaa7ade",
   "metadata": {},
   "outputs": [],
   "source": []
  },
  {
   "cell_type": "code",
   "execution_count": null,
   "id": "5bd23367",
   "metadata": {},
   "outputs": [],
   "source": []
  },
  {
   "cell_type": "code",
   "execution_count": null,
   "id": "f9ebec1f",
   "metadata": {},
   "outputs": [],
   "source": []
  },
  {
   "cell_type": "code",
   "execution_count": null,
   "id": "fa7920d9",
   "metadata": {},
   "outputs": [],
   "source": []
  },
  {
   "cell_type": "code",
   "execution_count": null,
   "id": "7a3d5190",
   "metadata": {},
   "outputs": [],
   "source": []
  },
  {
   "cell_type": "code",
   "execution_count": null,
   "id": "929014ac",
   "metadata": {},
   "outputs": [],
   "source": []
  }
 ],
 "metadata": {
  "kernelspec": {
   "display_name": "Python 3 (ipykernel)",
   "language": "python",
   "name": "python3"
  },
  "language_info": {
   "codemirror_mode": {
    "name": "ipython",
    "version": 3
   },
   "file_extension": ".py",
   "mimetype": "text/x-python",
   "name": "python",
   "nbconvert_exporter": "python",
   "pygments_lexer": "ipython3",
   "version": "3.9.12"
  }
 },
 "nbformat": 4,
 "nbformat_minor": 5
}
